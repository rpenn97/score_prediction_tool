{
 "cells": [
  {
   "cell_type": "code",
   "execution_count": 3,
   "metadata": {},
   "outputs": [],
   "source": [
    "import numpy as np\n",
    "import random\n"
   ]
  },
  {
   "cell_type": "code",
   "execution_count": 176,
   "metadata": {},
   "outputs": [
    {
     "name": "stdout",
     "output_type": "stream",
     "text": [
      "6\n",
      "Final Score: Manchester United 1-1 West Ham\n",
      "Final Score: Brighton 1-3 Brentford\n"
     ]
    }
   ],
   "source": [
    "Team_dict_str_h = {'Manchester United':1,'Brighton':-1}\n",
    "Team_dict_str_a = {'West Ham':-1,'Brentford': 0}\n",
    "Team_dict_score_h = {'Manchester United': 0,'Brighton': 0}\n",
    "Team_dict_score_a = {'West Ham':0,'Brentford': 0}\n",
    "\n",
    "key_h = list(Team_dict_str_h.keys())\n",
    "key_a = list(Team_dict_str_a.keys())\n",
    "my_list = Team_dict_str_h[key_h[0]]\n",
    "my_list\n",
    "\n",
    "\n",
    "match_1 = [key_h[0],key_a[0]]\n",
    "match_2 = [key_h[1],key_a[1]]\n",
    "\n",
    "gameweek = [match_1,match_2]\n",
    "goal_count = random.randint(0,8)  # Look at quartiles for suitable parameters \n",
    "print(goal_count)\n",
    "\n",
    "\n",
    "while goal_count > 0:\n",
    "\n",
    "    i = random.randint(0,1)\n",
    "    home_att = random.randint(0,5)\n",
    "    away_att = random.randint(0,5)\n",
    "            \n",
    "    Home_Score = Team_dict_str_h[key_h[i]] + home_att\n",
    "    Away_Score = Team_dict_str_a[key_a[i]] + away_att\n",
    "                                 \n",
    "    if Home_Score - Away_Score >= 3:\n",
    "        Team_dict_score_h[key_h[i]] +=1\n",
    "        goal_count -=1\n",
    "        # print(f\"Goal!!! {Team_dict_str_h.keys[i]} {Team_dict_score_h[i]}-{Team_dict_score_a[i]} {Team_dict_str_a.keys[i]} [{Home_Score},{Away_Score}]\")\n",
    "    elif Away_Score - Home_Score >= 3:\n",
    "        Team_dict_score_a[key_a[i]] +=1\n",
    "        goal_count -=1\n",
    "        # print(f\"Goall!! {Team_dict_str_h.keys[i]} {Team_dict_score_h[i]}-{Team_dict_score_a[i]} {Team_dict_str_a.keys[i]}[{Home_Score},{Away_Score}]\")\n",
    "    else:\n",
    "        continue\n",
    "            # print(\"Nothing happened\")\n",
    "    \n",
    "print(f\"Final Score: {key_h[0]} {Team_dict_score_h[key_h[0]]}-{Team_dict_score_a[key_a[0]]} {key_a[0]}\")\n",
    "print(f\"Final Score: {key_h[1]} {Team_dict_score_h[key_h[1]]}-{Team_dict_score_a[key_a[1]]} {key_a[1]}\")\n",
    "\n"
   ]
  }
 ],
 "metadata": {
  "kernelspec": {
   "display_name": "Python 3",
   "language": "python",
   "name": "python3"
  },
  "language_info": {
   "codemirror_mode": {
    "name": "ipython",
    "version": 3
   },
   "file_extension": ".py",
   "mimetype": "text/x-python",
   "name": "python",
   "nbconvert_exporter": "python",
   "pygments_lexer": "ipython3",
   "version": "3.9.10"
  }
 },
 "nbformat": 4,
 "nbformat_minor": 2
}
