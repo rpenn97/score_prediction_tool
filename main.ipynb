{
 "cells": [
  {
   "cell_type": "code",
   "execution_count": null,
   "metadata": {},
   "outputs": [],
   "source": [
    "\n",
    "# %run C:\\Users\\User\\OneDrive\\Documents\\VSCode\\score_prediction_tool\\Backend\\fixture_scraper.ipynb\n",
    "%run Backend/fixture_scraper.ipynb\n",
    "%run Backend/understat_scraping_tool.ipynb\n",
    "%run Backend/dataframe_generator.ipynb\n",
    "%run Backend/scoresheet.ipynb\n",
    "# print('Fixture Scraper has been run!')\n",
    "# Understat Scraper\n",
    "# %run C:\\Users\\User\\OneDrive\\Documents\\VSCode\\score_prediction_tool\\Backend\\understat_scraping_tool.ipynb\n",
    "# print('Understat Scraper has been run!')\n",
    "# Home vs Away tables/df\n",
    "# %run C:\\Users\\User\\OneDrive\\Documents\\VSCode\\score_prediction_tool\\Backend\\dataframe_generator.ipynb\n",
    "# print('Dataframe generator has been run!')\n",
    "# Score Predictions sheet\n",
    "# %run C:\\Users\\User\\OneDrive\\Documents\\VSCode\\score_prediction_tool\\Backend\\scoresheet.ipynb\n",
    "# print('Score Prediction sheet has been run')"
   ]
  }
 ],
 "metadata": {
  "language_info": {
   "name": "python"
  }
 },
 "nbformat": 4,
 "nbformat_minor": 2
}
