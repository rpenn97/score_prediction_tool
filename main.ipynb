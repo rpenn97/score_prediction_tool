{
 "cells": [
  {
   "cell_type": "code",
   "execution_count": null,
   "metadata": {},
   "outputs": [],
   "source": [
    "%run Backend/fixture_scraper.ipynb\n",
    "%run Backend/understat_scraping_tool.ipynb\n",
    "%run Backend/Dataframe_generator.ipynb\n",
    "%run Backend/scoresheet.ipynb\n"
   ]
  }
 ],
 "metadata": {
  "language_info": {
   "name": "python"
  }
 },
 "nbformat": 4,
 "nbformat_minor": 2
}
