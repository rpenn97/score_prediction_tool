{
 "cells": [
  {
   "cell_type": "code",
   "execution_count": 1,
   "metadata": {},
   "outputs": [
    {
     "name": "stderr",
     "output_type": "stream",
     "text": [
      "C:\\Users\\User\\AppData\\Local\\Temp\\ipykernel_11196\\2151744951.py:1: DeprecationWarning: \n",
      "Pyarrow will become a required dependency of pandas in the next major release of pandas (pandas 3.0),\n",
      "(to allow more performant data types, such as the Arrow string type, and better interoperability with other libraries)\n",
      "but was not found to be installed on your system.\n",
      "If this would cause problems for you,\n",
      "please provide us feedback at https://github.com/pandas-dev/pandas/issues/54466\n",
      "        \n",
      "  import pandas as pd\n"
     ]
    }
   ],
   "source": [
    "import pandas as pd\n",
    "import numpy as np\n",
    "import matplotlib.pyplot as plt"
   ]
  },
  {
   "cell_type": "code",
   "execution_count": 2,
   "metadata": {},
   "outputs": [],
   "source": [
    "#import tables from generator\n",
    "\n",
    "# eng_df = pd.read_excel(r'EPL_understat.xlsx')\n",
    "# eng_df = eng_df.sort_values(by='date',ascending=False)\n",
    "# fra_df = pd.read_excel(r'Ligue1_understat.xlsx')\n",
    "# fra_df = fra_df.sort_values(by='date',ascending=False)\n",
    "# ger_df = pd.read_excel(r'Bundesliga_understat.xlsx')\n",
    "# ger_df = ger_df.sort_values(by='date',ascending=False)\n",
    "# ita_df = pd.read_excel(r'SerieA_understat.xlsx')\n",
    "# ita_df = ita_df.sort_values(by='date',ascending=False)\n",
    "# spa_df = pd.read_excel(r'LaLiga_understat.xlsx')\n",
    "# spa_df = spa_df.sort_values(by='date',ascending=False)\n",
    "\n",
    "# eng_h = pd.read_excel(r'EPL_Home_Away.xlsx',sheet_name='home')\n",
    "# eng_a = pd.read_excel(r'EPL_Home_Away.xlsx',sheet_name='away')\n",
    "# fra_h = pd.read_excel(r'Ligue1_Home_Away.xlsx',sheet_name='home')\n",
    "# fra_a = pd.read_excel(r'Ligue1_Home_Away.xlsx',sheet_name='away')\n",
    "# ger_h = pd.read_excel(r'Bundesliga_Home_Away.xlsx',sheet_name='home')\n",
    "# ger_a = pd.read_excel(r'Bundesliga_Home_Away.xlsx',sheet_name='away')\n",
    "# ita_h = pd.read_excel(r'SerieA_Home_Away.xlsx',sheet_name='home')\n",
    "# ita_a = pd.read_excel(r'SerieA_Home_Away.xlsx',sheet_name='away')\n",
    "# spa_h = pd.read_excel(r'LaLiga_Home_Away.xlsx',sheet_name='home')\n",
    "# spa_a = pd.read_excel(r'LaLiga_Home_Away.xlsx',sheet_name='away')"
   ]
  }
 ],
 "metadata": {
  "kernelspec": {
   "display_name": "Python 3",
   "language": "python",
   "name": "python3"
  },
  "language_info": {
   "codemirror_mode": {
    "name": "ipython",
    "version": 3
   },
   "file_extension": ".py",
   "mimetype": "text/x-python",
   "name": "python",
   "nbconvert_exporter": "python",
   "pygments_lexer": "ipython3",
   "version": "3.9.10"
  }
 },
 "nbformat": 4,
 "nbformat_minor": 2
}
