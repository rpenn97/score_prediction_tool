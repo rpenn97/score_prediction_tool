{
 "cells": [
  {
   "cell_type": "code",
   "execution_count": 2,
   "metadata": {},
   "outputs": [],
   "source": [
    "import pandas as pd\n",
    "import numpy as np\n",
    "import matplotlib.pyplot as plt\n",
    "import datetime"
   ]
  },
  {
   "cell_type": "code",
   "execution_count": 3,
   "metadata": {},
   "outputs": [],
   "source": [
    "#import tables from generator\n",
    "\n",
    "# eng_df = pd.read_excel(r'EPL_understat.xlsx',sheet_name='gamesheet')\n",
    "# eng_df = eng_df.sort_values(by='date',ascending=False)\n",
    "# fra_df = pd.read_excel(r'Ligue1_understat.xlsx',sheet_name='gamesheet')\n",
    "# fra_df = fra_df.sort_values(by='date',ascending=False)\n",
    "# ger_df = pd.read_excel(r'Bundesliga_understat.xlsx',sheet_name='gamesheet')\n",
    "# ger_df = ger_df.sort_values(by='date',ascending=False)\n",
    "# ita_df = pd.read_excel(r'SerieA_understat.xlsx',sheet_name='gamesheet')\n",
    "# ita_df = ita_df.sort_values(by='date',ascending=False)\n",
    "# spa_df = pd.read_excel(r'LaLiga_understat.xlsx',sheet_name='gamesheet')\n",
    "# spa_df = spa_df.sort_values(by='date',ascending=False)"
   ]
  }
 ],
 "metadata": {
  "kernelspec": {
   "display_name": "Python 3",
   "language": "python",
   "name": "python3"
  },
  "language_info": {
   "codemirror_mode": {
    "name": "ipython",
    "version": 3
   },
   "file_extension": ".py",
   "mimetype": "text/x-python",
   "name": "python",
   "nbconvert_exporter": "python",
   "pygments_lexer": "ipython3",
   "version": "3.9.10"
  }
 },
 "nbformat": 4,
 "nbformat_minor": 2
}
