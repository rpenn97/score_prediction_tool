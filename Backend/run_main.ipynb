{
 "cells": [
  {
   "cell_type": "code",
   "execution_count": 5,
   "metadata": {},
   "outputs": [
    {
     "name": "stdout",
     "output_type": "stream",
     "text": [
      "Understat Scraper has been run!\n"
     ]
    },
    {
     "name": "stderr",
     "output_type": "stream",
     "text": [
      "C:\\Users\\User\\AppData\\Local\\Temp\\ipykernel_7628\\1236539512.py:16: DeprecationWarning: DataFrameGroupBy.apply operated on the grouping columns. This behavior is deprecated, and in a future version of pandas the grouping columns will be excluded from the operation. Either pass `include_groups=False` to exclude the groupings or explicitly select the grouping columns after groupby to silence this warning.\n",
      "  temp_df = temp_df.groupby(['Team'],as_index=False).apply(lambda x: x.nsmallest(10, 'date_int'))\n",
      "C:\\Users\\User\\AppData\\Local\\Temp\\ipykernel_7628\\1236539512.py:16: DeprecationWarning: DataFrameGroupBy.apply operated on the grouping columns. This behavior is deprecated, and in a future version of pandas the grouping columns will be excluded from the operation. Either pass `include_groups=False` to exclude the groupings or explicitly select the grouping columns after groupby to silence this warning.\n",
      "  temp_df = temp_df.groupby(['Team'],as_index=False).apply(lambda x: x.nsmallest(10, 'date_int'))\n",
      "C:\\Users\\User\\AppData\\Local\\Temp\\ipykernel_7628\\1236539512.py:16: DeprecationWarning: DataFrameGroupBy.apply operated on the grouping columns. This behavior is deprecated, and in a future version of pandas the grouping columns will be excluded from the operation. Either pass `include_groups=False` to exclude the groupings or explicitly select the grouping columns after groupby to silence this warning.\n",
      "  temp_df = temp_df.groupby(['Team'],as_index=False).apply(lambda x: x.nsmallest(10, 'date_int'))\n",
      "C:\\Users\\User\\AppData\\Local\\Temp\\ipykernel_7628\\1236539512.py:16: DeprecationWarning: DataFrameGroupBy.apply operated on the grouping columns. This behavior is deprecated, and in a future version of pandas the grouping columns will be excluded from the operation. Either pass `include_groups=False` to exclude the groupings or explicitly select the grouping columns after groupby to silence this warning.\n",
      "  temp_df = temp_df.groupby(['Team'],as_index=False).apply(lambda x: x.nsmallest(10, 'date_int'))\n",
      "C:\\Users\\User\\AppData\\Local\\Temp\\ipykernel_7628\\1236539512.py:16: DeprecationWarning: DataFrameGroupBy.apply operated on the grouping columns. This behavior is deprecated, and in a future version of pandas the grouping columns will be excluded from the operation. Either pass `include_groups=False` to exclude the groupings or explicitly select the grouping columns after groupby to silence this warning.\n",
      "  temp_df = temp_df.groupby(['Team'],as_index=False).apply(lambda x: x.nsmallest(10, 'date_int'))\n"
     ]
    },
    {
     "name": "stdout",
     "output_type": "stream",
     "text": [
      "Dataframe generator has been run!\n",
      "Score Prediction sheet has been run\n"
     ]
    }
   ],
   "source": [
    "# Breaks after Understat scraper\n",
    "\n",
    "def start_up():\n",
    "    # Fixture List Scraper\n",
    "    %run C:\\Users\\User\\OneDrive\\Documents\\VSCode\\score_prediction_tool\\Backend\\fixture_scraper.py\n",
    "    # Understat Scraper\n",
    "    %run C:\\Users\\User\\OneDrive\\Documents\\VSCode\\score_prediction_tool\\Backend\\understat_scraping_tool.ipynb\n",
    "    print('Understat Scraper has been run!')\n",
    "    # Home vs Away tables/df\n",
    "    %run C:\\Users\\User\\OneDrive\\Documents\\VSCode\\score_prediction_tool\\Backend\\dataframe_generator.ipynb\n",
    "    print('Dataframe generator has been run!')\n",
    "    # %run C:\\Users\\User\\OneDrive\\Documents\\VSCode\\score_prediction_tool\\Backend\\fixture_list_generator.ipynb\n",
    "    # print('Fixture list generator has been run!')\n",
    "    %run C:\\Users\\User\\OneDrive\\Documents\\VSCode\\score_prediction_tool\\Backend\\scoresheet.ipynb\n",
    "    print('Score Prediction sheet has been run')\n",
    "start_up()\n"
   ]
  }
 ],
 "metadata": {
  "kernelspec": {
   "display_name": "Python 3",
   "language": "python",
   "name": "python3"
  },
  "language_info": {
   "codemirror_mode": {
    "name": "ipython",
    "version": 3
   },
   "file_extension": ".py",
   "mimetype": "text/x-python",
   "name": "python",
   "nbconvert_exporter": "python",
   "pygments_lexer": "ipython3",
   "version": "3.9.10"
  }
 },
 "nbformat": 4,
 "nbformat_minor": 2
}
