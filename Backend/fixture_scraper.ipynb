{
 "cells": [
  {
   "cell_type": "code",
   "execution_count": 1,
   "metadata": {},
   "outputs": [],
   "source": [
    "from bs4 import BeautifulSoup\n",
    "import requests\n",
    "from datetime import datetime,timedelta\n",
    "import pandas as pd"
   ]
  },
  {
   "cell_type": "code",
   "execution_count": 2,
   "metadata": {},
   "outputs": [],
   "source": [
    "league_list = ['england','france','germany','italy','spain']"
   ]
  },
  {
   "cell_type": "code",
   "execution_count": 3,
   "metadata": {},
   "outputs": [],
   "source": [
    "def fixture_list(league_list):\n",
    "\n",
    "    match_list = []\n",
    "    day_dictionary = {\"Mo\":\"Mon\",\"Tu\":\"Tue\",\"We\":\"Wed\",\"Th\":\"Thu\",\"Fr\":\"Fri\",\"Sa\":\"Sat\",\"Su\":\"Sun\"}\n",
    "    today = datetime.now().date()\n",
    "    last_day = today + timedelta(days=6)\n",
    "\n",
    "    for i in league_list:\n",
    "        url = f'https://www.soccerstats.com/results.asp?league={i}'\n",
    "        a = requests.get(url)\n",
    "\n",
    "        soup = BeautifulSoup(a.text,features=\"html.parser\")\n",
    "        data = soup.find_all(class_='odd')\n",
    "        for row in data:\n",
    "            row = row.text\n",
    "            if row[0:2] in day_dictionary.keys():\n",
    "                if \"-\" not in row:\n",
    "                    row = row[:-3]\n",
    "                    row2 = row.split(\" \")\n",
    "                    day_3 = day_dictionary.get(row2[0])\n",
    "                    row_date = row2[0] + \" \" + row2[1] + \" \" + row2[2][0:3]\n",
    "                    row_date_upd = day_3 + \" \" + row2[1] + \" \" + row2[2][0:3]\n",
    "                    row_date_upd_y = f\"{datetime.now().year} {row_date_upd}\"\n",
    "                    date_object = datetime.strptime(row_date_upd_y, \"%Y %a %d %b\").date()\n",
    "                    if date_object >= today and date_object <= last_day:\n",
    "                        row_teams = row.replace(row_date,\"\")\n",
    "                        row_teams = ''.join((x for x in row_teams if not x.isdigit()))\n",
    "                        row_teams = row_teams.replace(\":\",\"v\")\n",
    "                        row_teams = row_teams.replace(u'\\xa0', u' ')\n",
    "                        match_list.append(row_teams)\n",
    "      \n",
    "    return match_list\n",
    "\n",
    "match_list = fixture_list(league_list)"
   ]
  },
  {
   "cell_type": "code",
   "execution_count": 4,
   "metadata": {},
   "outputs": [],
   "source": [
    "def name_converter(match_list):\n",
    "    match_list_upd = []\n",
    "\n",
    "    epl_namechange_dict = {\"Luton Town\":\"Luton\", \"Manchester Utd\":\"Manchester United7\", \"Newcastle Utd\":\"Newcastle United\", \"Nottm Forest\":\"Nottingham Forest\", \"Sheffield Utd\":\"Sheffield United\", \"West Ham Utd\":\"West Ham\", \"Wolverhampton\":\"Wolverhampton Wanderers\"}\n",
    "    ligue1_namechange_dict = {\"Clermont\":\"Clermont Foot\", \"Paris SG\":\"Paris Saint Germain\"}\n",
    "    bundesliga_namechange_dict = {\"FC Augsburg\":\"Augsburg\", \"Leverkusen\":\"Bayer Leverkusen\", \"Dortmund\":\"Borussia Dortmund\", \"Monchengladbach\":\"Borussia M.Gladbach\", \"E. Frankfurt\":\"Eintracht Frankfurt\", \"FC Koln\":\"FC Cologne\", \"Heidenheim\":\"FC Heidenheim\", \"FSV Mainz\":\"Mainz 05\", \"RB Leipzig\":\"RasenBallsport Leipzig\", \"Stuttgart\":\"VfB Stuttgart\"}\n",
    "    seriea_namechange_dict = {\"Inter Milan\":\"Inter\", \"AS Roma\":\"Roma\", \"Hellas Verona\":\"Verona\"}\n",
    "    laliga_namechange_dict = {\"Athletic Bilbao\":\"Athletic Club\", \"FC Barcelona\":\"Barcelona\", \"Sevilla FC\":\"Sevilla\"}\n",
    "    soccerstats_to_understat_names_dict = epl_namechange_dict | ligue1_namechange_dict | bundesliga_namechange_dict | seriea_namechange_dict | laliga_namechange_dict\n",
    "\n",
    "    for item in match_list:\n",
    "        temp_list = []\n",
    "        item = item.split(\" v \")\n",
    "        home_team = item[0]\n",
    "        away_team = item[1]\n",
    "        if home_team in soccerstats_to_understat_names_dict.keys():\n",
    "            home_team_upd = soccerstats_to_understat_names_dict.get(home_team)\n",
    "            temp_list.append(home_team_upd)\n",
    "        else:\n",
    "            temp_list.append(home_team)\n",
    "        if away_team in soccerstats_to_understat_names_dict.keys():\n",
    "            away_team_upd = soccerstats_to_understat_names_dict.get(away_team)\n",
    "            temp_list.append(away_team_upd)\n",
    "        else:\n",
    "            temp_list.append(away_team)\n",
    "        match_list_upd.append(f\"{temp_list[0]} v {temp_list[1]}\")\n",
    "\n",
    "    return match_list_upd\n",
    "\n",
    "match_list_updated = name_converter(match_list)"
   ]
  },
  {
   "cell_type": "code",
   "execution_count": 6,
   "metadata": {},
   "outputs": [],
   "source": [
    "\n",
    "df = pd.DataFrame({'matches': match_list_updated})\n",
    "df.to_csv('Frontend/fixtures.txt',mode='wb',index=False)"
   ]
  }
 ],
 "metadata": {
  "kernelspec": {
   "display_name": "Python 3",
   "language": "python",
   "name": "python3"
  },
  "language_info": {
   "codemirror_mode": {
    "name": "ipython",
    "version": 3
   },
   "file_extension": ".py",
   "mimetype": "text/x-python",
   "name": "python",
   "nbconvert_exporter": "python",
   "pygments_lexer": "ipython3",
   "version": "3.9.10"
  }
 },
 "nbformat": 4,
 "nbformat_minor": 2
}
